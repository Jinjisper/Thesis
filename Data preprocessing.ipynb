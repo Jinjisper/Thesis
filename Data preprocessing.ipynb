{
 "cells": [
  {
   "cell_type": "code",
   "execution_count": 28,
   "id": "0db58430",
   "metadata": {},
   "outputs": [],
   "source": [
    "import pandas as pd\n",
    "import numpy as np\n",
    "import shap\n",
    "import seaborn as sns\n",
    "from sklearn.impute import SimpleImputer\n",
    "from sklearn.experimental import enable_iterative_imputer  # Enable IterativeImputer in sklearn\n",
    "from sklearn.impute import IterativeImputer\n",
    "from sklearn.preprocessing import StandardScaler\n",
    "from sklearn.linear_model import LassoCV, LogisticRegression\n",
    "from sklearn.model_selection import train_test_split, GridSearchCV\n",
    "from sklearn.ensemble import GradientBoostingClassifier, RandomForestClassifier\n",
    "from lifelines import CoxPHFitter\n",
    "from sklearn.metrics import roc_auc_score, accuracy_score, precision_recall_fscore_support, confusion_matrix\n",
    "from xgboost import XGBClassifier\n",
    "\n",
    "\n",
    "\n",
    "\n"
   ]
  },
  {
   "cell_type": "code",
   "execution_count": 29,
   "id": "ef03f43c",
   "metadata": {},
   "outputs": [
    {
     "name": "stderr",
     "output_type": "stream",
     "text": [
      "C:\\Users\\何扬帆\\AppData\\Local\\Temp\\ipykernel_38344\\584643071.py:3: DtypeWarning: Columns (15,16,17,74,76,77,78,79,80,81,82,83,84,85,86,87,88,89,99,101,103,105,124,126,128,129,130,279,280,281,282,283,284,285,286,287,288,289,290,291,292,293,294,295,296,297,298) have mixed types. Specify dtype option on import or set low_memory=False.\n",
      "  df= pd.read_csv(adnimerge_path)\n"
     ]
    }
   ],
   "source": [
    "# Load datasets\n",
    "adnimerge_path = \"ADNIMERGE_CLEAN.csv\"\n",
    "df= pd.read_csv(adnimerge_path)\n"
   ]
  },
  {
   "cell_type": "code",
   "execution_count": 30,
   "id": "0ae8726f",
   "metadata": {},
   "outputs": [
    {
     "name": "stdout",
     "output_type": "stream",
     "text": [
      "<class 'pandas.core.frame.DataFrame'>\n",
      "RangeIndex: 2282 entries, 0 to 2281\n",
      "Columns: 299 entries, Unnamed: 0 to DX_VISIT25\n",
      "dtypes: float64(237), int64(4), object(58)\n",
      "memory usage: 5.2+ MB\n"
     ]
    }
   ],
   "source": [
    "df.info()"
   ]
  },
  {
   "cell_type": "code",
   "execution_count": 31,
   "id": "a2a95d54",
   "metadata": {},
   "outputs": [],
   "source": [
    "\n",
    "dtypes_df = pd.DataFrame({\n",
    "    'Column': df.columns,\n",
    "    'DataType': df.dtypes.values\n",
    "})\n",
    "\n",
    "# Force print without truncation\n",
    "dtypes_df.to_csv(\"column_dtypes.csv\", index=False)\n",
    "\n",
    "\n"
   ]
  },
  {
   "cell_type": "code",
   "execution_count": 32,
   "id": "e6bc8750",
   "metadata": {},
   "outputs": [],
   "source": [
    "def clean_biomarker_value(x):\n",
    "    try:\n",
    "        if pd.isna(x):\n",
    "            return np.nan\n",
    "        x = str(x).strip()\n",
    "        if x.startswith('>') or x.startswith('<'):\n",
    "            x = x[1:]\n",
    "        return float(x)\n",
    "    except:\n",
    "        return np.nan\n"
   ]
  },
  {
   "cell_type": "code",
   "execution_count": 33,
   "id": "d03013ce",
   "metadata": {},
   "outputs": [],
   "source": [
    "biomarkers = ['ABETA', 'TAU', 'PTAU']\n",
    "columns_to_clean = [f\"{b}_bl\" for b in biomarkers] + [f\"{b}_VISIT{i}\" for b in biomarkers for i in range(1, 26)]\n",
    "columns_to_clean = [col for col in columns_to_clean if col in df.columns]\n",
    "\n",
    "for col in columns_to_clean:\n",
    "    df[col] = df[col].apply(clean_biomarker_value).astype('float64')\n"
   ]
  },
  {
   "cell_type": "code",
   "execution_count": 34,
   "id": "abe8861e",
   "metadata": {},
   "outputs": [],
   "source": [
    "df['EXAMDATE_bl'] = pd.to_datetime(df['EXAMDATE_bl'], format='%Y-%m-%d')\n",
    "\n",
    "df['PTGENDER'] = df['PTGENDER'].astype('category')\n",
    "df['PTETHCAT'] = df['PTETHCAT'].astype('category')\n",
    "df['PTRACCAT'] = df['PTRACCAT'].astype('category')\n",
    "df['PTMARRY'] = df['PTMARRY'].astype('category')\n",
    "\n",
    "# List all target biomarker column prefixes\n",
    "biomarker_prefixes = ['ABETA', 'TAU', 'PTAU']\n",
    "# Build full list of column names\n",
    "columns_to_convert = []\n",
    "\n",
    "for prefix in biomarker_prefixes:\n",
    "    columns_to_convert.append(f'{prefix}_bl')  # baseline\n",
    "    columns_to_convert.extend([f'{prefix}_VISIT{i}' for i in range(1, 26)])  # visit 1–25\n",
    "\n",
    "# Filter to only existing columns in your DataFrame\n",
    "columns_to_convert = [col for col in columns_to_convert if col in df.columns]\n",
    "\n"
   ]
  },
  {
   "cell_type": "code",
   "execution_count": null,
   "id": "a9606351",
   "metadata": {},
   "outputs": [],
   "source": []
  },
  {
   "cell_type": "code",
   "execution_count": 35,
   "id": "d4f575bb",
   "metadata": {},
   "outputs": [],
   "source": [
    "\n",
    "\n",
    "# Convert to float64\n",
    "df[columns_to_convert] = df[columns_to_convert].astype('float64')\n",
    "\n",
    "# Create a list of diagnosis visit column names\n",
    "dx_columns = [f'DX_VISIT{i}' for i in range(1, 26)]\n",
    "\n",
    "# Convert those columns to category dtype\n",
    "df[dx_columns] = df[dx_columns].astype('category')\n"
   ]
  },
  {
   "cell_type": "code",
   "execution_count": 36,
   "id": "16ea14f7",
   "metadata": {},
   "outputs": [],
   "source": [
    "dtypes_df = pd.DataFrame({\n",
    "    'Column': df.columns,\n",
    "    'DataType': df.dtypes.values\n",
    "})\n",
    "\n",
    "# Force print without truncation\n",
    "dtypes_df.to_csv(\"column_dtypes_new.csv\", index=False)\n"
   ]
  },
  {
   "cell_type": "code",
   "execution_count": 37,
   "id": "60d9c8d7",
   "metadata": {},
   "outputs": [],
   "source": [
    "df.to_csv(\"check.csv\")"
   ]
  },
  {
   "cell_type": "code",
   "execution_count": 38,
   "id": "5dafa541",
   "metadata": {},
   "outputs": [
    {
     "name": "stdout",
     "output_type": "stream",
     "text": [
      "<class 'pandas.core.frame.DataFrame'>\n",
      "RangeIndex: 2282 entries, 0 to 2281\n",
      "Columns: 299 entries, Unnamed: 0 to DX_VISIT25\n",
      "dtypes: category(29), datetime64[ns](1), float64(264), int64(4), object(1)\n",
      "memory usage: 4.8+ MB\n"
     ]
    }
   ],
   "source": [
    "df.info()"
   ]
  },
  {
   "cell_type": "code",
   "execution_count": 39,
   "id": "87125beb",
   "metadata": {},
   "outputs": [],
   "source": [
    "df = df.drop(columns=['Unnamed: 0', 'Unnamed: 0.1'], errors='ignore')\n",
    "df.to_csv('check.csv')\n"
   ]
  },
  {
   "cell_type": "code",
   "execution_count": 40,
   "id": "9de95c1d",
   "metadata": {},
   "outputs": [
    {
     "name": "stdout",
     "output_type": "stream",
     "text": [
      "<class 'pandas.core.frame.DataFrame'>\n",
      "RangeIndex: 2282 entries, 0 to 2281\n",
      "Columns: 298 entries, RID to DX_VISIT25\n",
      "dtypes: category(29), datetime64[ns](1), float64(264), int64(3), object(1)\n",
      "memory usage: 4.8+ MB\n"
     ]
    }
   ],
   "source": [
    "df.info()"
   ]
  },
  {
   "cell_type": "code",
   "execution_count": 41,
   "id": "4b5b0648",
   "metadata": {},
   "outputs": [
    {
     "name": "stderr",
     "output_type": "stream",
     "text": [
      "C:\\Users\\何扬帆\\AppData\\Local\\Temp\\ipykernel_38344\\2459352920.py:2: DtypeWarning: Columns (279,280,281,282,283,284,285,286,287,288,289,290,291,292,293,294,295,296,297,298) have mixed types. Specify dtype option on import or set low_memory=False.\n",
      "  df = pd.read_csv('check.csv')\n"
     ]
    }
   ],
   "source": [
    "\n",
    "# Load your dataset\n",
    "df = pd.read_csv('check.csv')\n",
    "\n",
    "# Define column prefixes\n",
    "col_prefixes = [\n",
    "    'AGE_VISIT', 'APOE4_VISIT', 'ABETA_VISIT', 'TAU_VISIT', 'PTAU_VISIT',\n",
    "    'CDRSB_VISIT', 'ADAS11_VISIT', 'ADAS13_VISIT', 'ADASQ4_VISIT', \n",
    "    'MMSE_VISIT', 'DX_VISIT'\n",
    "]\n",
    "\n",
    "# Shift data to fill blanks for each prefix group\n",
    "for prefix in col_prefixes:\n",
    "    cols = [f'{prefix}{i}' for i in range(1, 26) if f'{prefix}{i}' in df.columns]\n",
    "    \n",
    "    # Shift non-NaN values left for each row\n",
    "    shifted_data = df[cols].apply(\n",
    "        lambda row: row.dropna().tolist() + [np.nan]*(len(row)-row.count()), axis=1, result_type='expand'\n",
    "    )\n",
    "    \n",
    "    # Replace original columns with shifted data\n",
    "    shifted_data.columns = cols\n",
    "    df[cols] = shifted_data\n",
    "\n",
    "# Remove columns entirely NaN after shifting (if any)\n",
    "df.dropna(axis=1, how='all', inplace=True)\n",
    "\n",
    "# Save the final adjusted data\n",
    "df.to_csv('Integrated_ADNIMERGE_shifted.csv', index=False)\n"
   ]
  },
  {
   "cell_type": "code",
   "execution_count": 42,
   "id": "4efbbe69",
   "metadata": {},
   "outputs": [],
   "source": [
    "df=pd.read_csv('Integrated_ADNIMERGE_shifted.csv')"
   ]
  },
  {
   "cell_type": "code",
   "execution_count": 43,
   "id": "f1e6d912",
   "metadata": {},
   "outputs": [
    {
     "name": "stdout",
     "output_type": "stream",
     "text": [
      "Empty DataFrame\n",
      "Columns: [RID, AGE_VISIT1, AGE_VISIT2, AGE_VISIT3, AGE_VISIT4, AGE_VISIT5, AGE_VISIT6, AGE_VISIT7, AGE_VISIT8, AGE_VISIT9, AGE_VISIT10, AGE_VISIT11, AGE_VISIT12, AGE_VISIT13, AGE_VISIT14, AGE_VISIT15, AGE_VISIT16, AGE_VISIT17, AGE_VISIT18, AGE_VISIT19, AGE_VISIT20, AGE_VISIT21, AGE_VISIT22, AGE_VISIT23, AGE_VISIT24, AGE_VISIT25]\n",
      "Index: []\n",
      "\n",
      "[0 rows x 26 columns]\n",
      "   RID\n",
      "0    3\n",
      "1    4\n",
      "2    5\n",
      "3    6\n",
      "4    7\n"
     ]
    }
   ],
   "source": [
    "# Get all AGE_VISIT columns\n",
    "age_cols = [col for col in df.columns if col.startswith(\"AGE_VISIT\")]\n",
    "\n",
    "# Define a function to check if all age values are the same (ignoring NaN)\n",
    "def is_age_consistent(row):\n",
    "    ages = row[age_cols].dropna().values\n",
    "    return len(set(ages)) == 1 if len(ages) > 0 else False\n",
    "\n",
    "# Apply function and filter dataset\n",
    "consistent_age_df = df[df.apply(is_age_consistent, axis=1)][['RID']]\n",
    "# Define a function to check if all non-NaN age values are the same\n",
    "def is_age_inconsistent(row):\n",
    "    values = row[age_cols].dropna().values\n",
    "    return len(set(values)) > 1\n",
    "\n",
    "# Filter rows where age is inconsistent\n",
    "inconsistent_age_df = df[df.apply(is_age_inconsistent, axis=1)]\n",
    "\n",
    "# Save or display the result\n",
    "inconsistent_age_df.to_csv(\"inconsistent_age_rows.csv\", index=False)\n",
    "print(inconsistent_age_df[['RID'] + age_cols].head())\n",
    "# Save or display the result\n",
    "consistent_age_df.to_csv(\"consistent_age_RIDs.csv\", index=False)\n",
    "print(consistent_age_df.head())"
   ]
  },
  {
   "cell_type": "code",
   "execution_count": 44,
   "id": "5da44453",
   "metadata": {},
   "outputs": [],
   "source": [
    "df.dropna(axis=1, thresh=0.5*len(df), inplace=True)  # Remove columns missing >20% of values\n"
   ]
  },
  {
   "cell_type": "code",
   "execution_count": 45,
   "id": "18985313",
   "metadata": {},
   "outputs": [],
   "source": [
    "df['EXAMDATE_bl'] = pd.to_datetime(df['EXAMDATE_bl'], format='%Y-%m-%d')\n",
    "\n",
    "df['PTGENDER'] = df['PTGENDER'].astype('category')\n",
    "df['PTETHCAT'] = df['PTETHCAT'].astype('category')\n",
    "df['PTRACCAT'] = df['PTRACCAT'].astype('category')\n",
    "df['PTMARRY'] = df['PTMARRY'].astype('category')\n",
    "df['SITE'] = df['SITE'].astype('category')\n",
    "# Create a list of diagnosis visit column names\n",
    "dx_columns = [f'DX_VISIT{i}' for i in range(1, 5)]\n",
    "\n",
    "# Convert those columns to category dtype\n",
    "df[dx_columns] = df[dx_columns].astype('category')"
   ]
  },
  {
   "cell_type": "code",
   "execution_count": 46,
   "id": "796009d4",
   "metadata": {},
   "outputs": [
    {
     "name": "stdout",
     "output_type": "stream",
     "text": [
      "<class 'pandas.core.frame.DataFrame'>\n",
      "RangeIndex: 2282 entries, 0 to 2281\n",
      "Data columns (total 55 columns):\n",
      " #   Column         Non-Null Count  Dtype         \n",
      "---  ------         --------------  -----         \n",
      " 0   Unnamed: 0     2282 non-null   int64         \n",
      " 1   RID            2282 non-null   int64         \n",
      " 2   PTID           2282 non-null   object        \n",
      " 3   SITE           2282 non-null   category      \n",
      " 4   PTGENDER       2282 non-null   category      \n",
      " 5   PTEDUCAT       2282 non-null   int64         \n",
      " 6   PTETHCAT       2282 non-null   category      \n",
      " 7   PTRACCAT       2282 non-null   category      \n",
      " 8   PTMARRY        2281 non-null   category      \n",
      " 9   EXAMDATE_bl    2282 non-null   datetime64[ns]\n",
      " 10  CDRSB_bl       2282 non-null   float64       \n",
      " 11  ADAS11_bl      2270 non-null   float64       \n",
      " 12  ADAS13_bl      2259 non-null   float64       \n",
      " 13  ADASQ4_bl      2275 non-null   float64       \n",
      " 14  MMSE_bl        2281 non-null   float64       \n",
      " 15  FDG_bl         1387 non-null   float64       \n",
      " 16  Years_bl       2282 non-null   float64       \n",
      " 17  Month_bl       2282 non-null   float64       \n",
      " 18  AGE_VISIT1     2278 non-null   float64       \n",
      " 19  AGE_VISIT2     2058 non-null   float64       \n",
      " 20  AGE_VISIT3     1828 non-null   float64       \n",
      " 21  AGE_VISIT4     1631 non-null   float64       \n",
      " 22  AGE_VISIT5     1420 non-null   float64       \n",
      " 23  APOE4_VISIT1   2069 non-null   float64       \n",
      " 24  APOE4_VISIT2   1955 non-null   float64       \n",
      " 25  APOE4_VISIT3   1801 non-null   float64       \n",
      " 26  APOE4_VISIT4   1626 non-null   float64       \n",
      " 27  APOE4_VISIT5   1418 non-null   float64       \n",
      " 28  ABETA_VISIT1   1155 non-null   float64       \n",
      " 29  TAU_VISIT1     1155 non-null   float64       \n",
      " 30  PTAU_VISIT1    1155 non-null   float64       \n",
      " 31  CDRSB_VISIT1   2282 non-null   float64       \n",
      " 32  CDRSB_VISIT2   1978 non-null   float64       \n",
      " 33  CDRSB_VISIT3   1684 non-null   float64       \n",
      " 34  CDRSB_VISIT4   1293 non-null   float64       \n",
      " 35  ADAS11_VISIT1  2273 non-null   float64       \n",
      " 36  ADAS11_VISIT2  1942 non-null   float64       \n",
      " 37  ADAS11_VISIT3  1652 non-null   float64       \n",
      " 38  ADAS11_VISIT4  1277 non-null   float64       \n",
      " 39  ADAS13_VISIT1  2272 non-null   float64       \n",
      " 40  ADAS13_VISIT2  1937 non-null   float64       \n",
      " 41  ADAS13_VISIT3  1639 non-null   float64       \n",
      " 42  ADAS13_VISIT4  1253 non-null   float64       \n",
      " 43  ADASQ4_VISIT1  2275 non-null   float64       \n",
      " 44  ADASQ4_VISIT2  1943 non-null   float64       \n",
      " 45  ADASQ4_VISIT3  1658 non-null   float64       \n",
      " 46  ADASQ4_VISIT4  1279 non-null   float64       \n",
      " 47  MMSE_VISIT1    2281 non-null   float64       \n",
      " 48  MMSE_VISIT2    1945 non-null   float64       \n",
      " 49  MMSE_VISIT3    1656 non-null   float64       \n",
      " 50  MMSE_VISIT4    1279 non-null   float64       \n",
      " 51  DX_VISIT1      2261 non-null   category      \n",
      " 52  DX_VISIT2      1938 non-null   category      \n",
      " 53  DX_VISIT3      1650 non-null   category      \n",
      " 54  DX_VISIT4      1288 non-null   category      \n",
      "dtypes: category(9), datetime64[ns](1), float64(41), int64(3), object(1)\n",
      "memory usage: 844.2+ KB\n"
     ]
    },
    {
     "data": {
      "text/plain": [
       "Unnamed: 0                int64\n",
       "RID                       int64\n",
       "PTID                     object\n",
       "SITE                   category\n",
       "PTGENDER               category\n",
       "PTEDUCAT                  int64\n",
       "PTETHCAT               category\n",
       "PTRACCAT               category\n",
       "PTMARRY                category\n",
       "EXAMDATE_bl      datetime64[ns]\n",
       "CDRSB_bl                float64\n",
       "ADAS11_bl               float64\n",
       "ADAS13_bl               float64\n",
       "ADASQ4_bl               float64\n",
       "MMSE_bl                 float64\n",
       "FDG_bl                  float64\n",
       "Years_bl                float64\n",
       "Month_bl                float64\n",
       "AGE_VISIT1              float64\n",
       "AGE_VISIT2              float64\n",
       "AGE_VISIT3              float64\n",
       "AGE_VISIT4              float64\n",
       "AGE_VISIT5              float64\n",
       "APOE4_VISIT1            float64\n",
       "APOE4_VISIT2            float64\n",
       "APOE4_VISIT3            float64\n",
       "APOE4_VISIT4            float64\n",
       "APOE4_VISIT5            float64\n",
       "ABETA_VISIT1            float64\n",
       "TAU_VISIT1              float64\n",
       "PTAU_VISIT1             float64\n",
       "CDRSB_VISIT1            float64\n",
       "CDRSB_VISIT2            float64\n",
       "CDRSB_VISIT3            float64\n",
       "CDRSB_VISIT4            float64\n",
       "ADAS11_VISIT1           float64\n",
       "ADAS11_VISIT2           float64\n",
       "ADAS11_VISIT3           float64\n",
       "ADAS11_VISIT4           float64\n",
       "ADAS13_VISIT1           float64\n",
       "ADAS13_VISIT2           float64\n",
       "ADAS13_VISIT3           float64\n",
       "ADAS13_VISIT4           float64\n",
       "ADASQ4_VISIT1           float64\n",
       "ADASQ4_VISIT2           float64\n",
       "ADASQ4_VISIT3           float64\n",
       "ADASQ4_VISIT4           float64\n",
       "MMSE_VISIT1             float64\n",
       "MMSE_VISIT2             float64\n",
       "MMSE_VISIT3             float64\n",
       "MMSE_VISIT4             float64\n",
       "DX_VISIT1              category\n",
       "DX_VISIT2              category\n",
       "DX_VISIT3              category\n",
       "DX_VISIT4              category\n",
       "dtype: object"
      ]
     },
     "execution_count": 46,
     "metadata": {},
     "output_type": "execute_result"
    }
   ],
   "source": [
    "df.info()\n",
    "df.dtypes"
   ]
  },
  {
   "cell_type": "code",
   "execution_count": 47,
   "id": "47cb9852",
   "metadata": {},
   "outputs": [],
   "source": [
    "df.to_csv('check2.csv')"
   ]
  },
  {
   "cell_type": "code",
   "execution_count": 58,
   "id": "0830a348",
   "metadata": {},
   "outputs": [],
   "source": [
    "df = pd.read_csv(\"check2.csv\")\n",
    "df=df.drop(columns='Unnamed: 0')"
   ]
  },
  {
   "cell_type": "code",
   "execution_count": 59,
   "id": "3e3f9673",
   "metadata": {},
   "outputs": [
    {
     "data": {
      "text/html": [
       "<div>\n",
       "<style scoped>\n",
       "    .dataframe tbody tr th:only-of-type {\n",
       "        vertical-align: middle;\n",
       "    }\n",
       "\n",
       "    .dataframe tbody tr th {\n",
       "        vertical-align: top;\n",
       "    }\n",
       "\n",
       "    .dataframe thead th {\n",
       "        text-align: right;\n",
       "    }\n",
       "</style>\n",
       "<table border=\"1\" class=\"dataframe\">\n",
       "  <thead>\n",
       "    <tr style=\"text-align: right;\">\n",
       "      <th></th>\n",
       "      <th>DX_VISIT1</th>\n",
       "      <th>DX_VISIT2</th>\n",
       "      <th>DX_VISIT3</th>\n",
       "      <th>DX_VISIT4</th>\n",
       "    </tr>\n",
       "  </thead>\n",
       "  <tbody>\n",
       "    <tr>\n",
       "      <th>0</th>\n",
       "      <td>Dementia</td>\n",
       "      <td>Dementia</td>\n",
       "      <td>Dementia</td>\n",
       "      <td>Dementia</td>\n",
       "    </tr>\n",
       "    <tr>\n",
       "      <th>1</th>\n",
       "      <td>MCI</td>\n",
       "      <td>MCI</td>\n",
       "      <td>MCI</td>\n",
       "      <td>MCI</td>\n",
       "    </tr>\n",
       "    <tr>\n",
       "      <th>2</th>\n",
       "      <td>CN</td>\n",
       "      <td>CN</td>\n",
       "      <td>CN</td>\n",
       "      <td>CN</td>\n",
       "    </tr>\n",
       "    <tr>\n",
       "      <th>3</th>\n",
       "      <td>MCI</td>\n",
       "      <td>MCI</td>\n",
       "      <td>MCI</td>\n",
       "      <td>MCI</td>\n",
       "    </tr>\n",
       "    <tr>\n",
       "      <th>4</th>\n",
       "      <td>Dementia</td>\n",
       "      <td>Dementia</td>\n",
       "      <td>Dementia</td>\n",
       "      <td>Dementia</td>\n",
       "    </tr>\n",
       "  </tbody>\n",
       "</table>\n",
       "</div>"
      ],
      "text/plain": [
       "  DX_VISIT1 DX_VISIT2 DX_VISIT3 DX_VISIT4\n",
       "0  Dementia  Dementia  Dementia  Dementia\n",
       "1       MCI       MCI       MCI       MCI\n",
       "2        CN        CN        CN        CN\n",
       "3       MCI       MCI       MCI       MCI\n",
       "4  Dementia  Dementia  Dementia  Dementia"
      ]
     },
     "execution_count": 59,
     "metadata": {},
     "output_type": "execute_result"
    }
   ],
   "source": [
    "import sklearn\n",
    "from sklearn.impute import SimpleImputer\n",
    "from sklearn.preprocessing import OneHotEncoder\n",
    "\n",
    "df = pd.read_csv(\"check2.csv\")\n",
    "\n",
    "categorical_vars = ['SITE', 'PTGENDER', 'PTETHCAT', 'PTRACCAT', 'PTMARRY']\n",
    "cat_imputer = SimpleImputer(strategy='most_frequent')\n",
    "df[categorical_vars] = cat_imputer.fit_transform(df[categorical_vars])\n",
    "\n",
    "# One-hot encode categorical variables \n",
    "ohe = OneHotEncoder(sparse_output=False, drop='first')\n",
    "encoded = ohe.fit_transform(df[categorical_vars])\n",
    "encoded_cols = ohe.get_feature_names_out(categorical_vars)\n",
    "df_encoded = pd.DataFrame(encoded, columns=encoded_cols, index=df.index)\n",
    "\n",
    "# Merge encoded columns back\n",
    "df = pd.concat([df.drop(columns=categorical_vars), df_encoded], axis=1)\n",
    "\n",
    "# Impute APOE4 (static biological marker)\n",
    "for v in range(1, 5):\n",
    "    col = f\"APOE4_VISIT{v}\"\n",
    "    if col in df.columns:\n",
    "        df[col] = df[col].fillna(df[col].median())\n",
    "\n",
    "# Forward-fill & median-impute biomarker values across visits\n",
    "biomarkers = ['ABETA', 'TAU', 'PTAU', 'CDRSB', 'ADAS11', 'ADAS13', 'ADASQ4', 'MMSE']\n",
    "for b in biomarkers:\n",
    "    visit_cols = [f\"{b}_VISIT{v}\" for v in range(1, 5) if f\"{b}_VISIT{v}\" in df.columns]\n",
    "    # Forward fill across visits\n",
    "    df[visit_cols] = df[visit_cols].apply(lambda row: row.ffill(axis=0), axis=1)\n",
    "    # Fill remaining NaNs with median\n",
    "    for col in visit_cols:\n",
    "        df[col] = df[col].fillna(df[col].median())\n",
    "\n",
    "#  Mark diagnosis columns as categorical for future label encoding\n",
    "dx_cols = [f\"DX_VISIT{v}\" for v in range(1, 5) if f\"DX_VISIT{v}\" in df.columns]\n",
    "for col in dx_cols:\n",
    "    df[col] = df[col].astype(\"category\")\n",
    "\n",
    "df[dx_cols].head()\n"
   ]
  },
  {
   "cell_type": "code",
   "execution_count": 60,
   "id": "3dcd4b85",
   "metadata": {},
   "outputs": [
    {
     "name": "stdout",
     "output_type": "stream",
     "text": [
      "<class 'pandas.core.frame.DataFrame'>\n",
      "RangeIndex: 2282 entries, 0 to 2281\n",
      "Columns: 130 entries, Unnamed: 0.1 to PTMARRY_Widowed\n",
      "dtypes: category(4), float64(120), int64(4), object(2)\n",
      "memory usage: 2.2+ MB\n"
     ]
    }
   ],
   "source": [
    "df.info()\n",
    "df.to_csv('check3.csv')"
   ]
  },
  {
   "cell_type": "code",
   "execution_count": null,
   "id": "98aa3993",
   "metadata": {},
   "outputs": [],
   "source": [
    "import pandas as pd\n",
    "\n",
    "# Load your datasets\n",
    "check3 = pd.read_csv(\"check3.csv\")\n",
    "rurality = pd.read_csv(\"All_Subjects_RURALITY_07Mar2025.csv\")\n",
    "\n",
    "# Identify one-hot SITE columns\n",
    "site_columns = [col for col in check3.columns if col.startswith(\"SITE_\")]\n",
    "\n",
    "# Create SITE to RUCA mapping\n",
    "site_ruca_map = rurality[[\"SITEID\", \"RUCA\"]].dropna().drop_duplicates()\n",
    "site_to_ruca = {f\"SITE_{int(row.SITEID)}\": int(row.RUCA) for _, row in site_ruca_map.iterrows()}\n",
    "\n",
    "# Replace SITE columns with RUCA columns\n",
    "for site_col in site_columns:\n",
    "    if site_col in site_to_ruca:\n",
    "        ruca_val = site_to_ruca[site_col]\n",
    "        ruca_col = f\"RUCA_{ruca_val}\"\n",
    "        if ruca_col not in check3.columns:\n",
    "            check3[ruca_col] = 0\n",
    "        check3[ruca_col] = check3[ruca_col].astype(int) | check3[site_col].fillna(0).astype(int)\n",
    "\n",
    "# Drop SITE columns\n",
    "check3.drop(columns=site_columns, inplace=True)\n",
    "\n",
    "# Extract the RUCA value from the one-hot columns\n",
    "def extract_ruca_value(row):\n",
    "    for col in row.index:\n",
    "        if col.startswith(\"RUCA_\") and row[col] == 1:\n",
    "            return int(col.replace(\"RUCA_\", \"\"))\n",
    "    return None\n",
    "\n",
    "check3[\"RUCA_VALUE\"] = check3.apply(extract_ruca_value, axis=1)\n",
    "\n",
    "# Add binary flags\n",
    "check3[\"RUCA_URBAN\"] = check3[\"RUCA_VALUE\"].apply(lambda x: 1 if x == 2 else 0)\n",
    "check3[\"RUCA_RURAL\"] = check3[\"RUCA_VALUE\"].apply(lambda x: 1 if x == 1 else 0)\n",
    "check3[\"RUCA_UNKNOWN\"] = check3[\"RUCA_VALUE\"].apply(lambda x: 1 if pd.isna(x) or x not in [1,2] else 0)\n",
    "\n",
    "check3.drop(columns=[\"RUCA_1\", \"RUCA_2\", \"RUCA_VALUE\"], inplace=True)\n",
    "\n",
    "# Optional: save to CSV\n",
    "check3.to_csv(\"DATA.csv\", index=False)\n"
   ]
  },
  {
   "cell_type": "code",
   "execution_count": null,
   "id": "39a0b030",
   "metadata": {},
   "outputs": [
    {
     "ename": "KeyError",
     "evalue": "\"['Unnamed: 0.1', 'Unnamed: 0', 'AGE_VISIT2', 'AGE_VISIT3', 'AGE_VISIT4', 'AGE_VISIT5'] not found in axis\"",
     "output_type": "error",
     "traceback": [
      "\u001b[1;31m---------------------------------------------------------------------------\u001b[0m",
      "\u001b[1;31mKeyError\u001b[0m                                  Traceback (most recent call last)",
      "Cell \u001b[1;32mIn[62], line 1\u001b[0m\n\u001b[1;32m----> 1\u001b[0m df\u001b[38;5;241m=\u001b[39m\u001b[43mdf\u001b[49m\u001b[38;5;241;43m.\u001b[39;49m\u001b[43mdrop\u001b[49m\u001b[43m(\u001b[49m\u001b[43mcolumns\u001b[49m\u001b[38;5;241;43m=\u001b[39;49m\u001b[43m[\u001b[49m\u001b[38;5;124;43m'\u001b[39;49m\u001b[38;5;124;43mUnnamed: 0.1\u001b[39;49m\u001b[38;5;124;43m'\u001b[39;49m\u001b[43m,\u001b[49m\u001b[38;5;124;43m'\u001b[39;49m\u001b[38;5;124;43mUnnamed: 0\u001b[39;49m\u001b[38;5;124;43m'\u001b[39;49m\u001b[43m,\u001b[49m\u001b[38;5;124;43m'\u001b[39;49m\u001b[38;5;124;43mAGE_VISIT2\u001b[39;49m\u001b[38;5;124;43m'\u001b[39;49m\u001b[43m,\u001b[49m\u001b[38;5;124;43m'\u001b[39;49m\u001b[38;5;124;43mAGE_VISIT3\u001b[39;49m\u001b[38;5;124;43m'\u001b[39;49m\u001b[43m,\u001b[49m\u001b[38;5;124;43m'\u001b[39;49m\u001b[38;5;124;43mAGE_VISIT4\u001b[39;49m\u001b[38;5;124;43m'\u001b[39;49m\u001b[43m,\u001b[49m\u001b[38;5;124;43m'\u001b[39;49m\u001b[38;5;124;43mAGE_VISIT5\u001b[39;49m\u001b[38;5;124;43m'\u001b[39;49m\u001b[43m]\u001b[49m\u001b[43m)\u001b[49m\n\u001b[0;32m      2\u001b[0m df\u001b[38;5;241m.\u001b[39mto_csv(\u001b[38;5;124m'\u001b[39m\u001b[38;5;124mcheck3.csv\u001b[39m\u001b[38;5;124m'\u001b[39m)\n",
      "File \u001b[1;32mc:\\Users\\何扬帆\\AppData\\Local\\Programs\\Python\\Python310\\lib\\site-packages\\pandas\\core\\frame.py:5581\u001b[0m, in \u001b[0;36mDataFrame.drop\u001b[1;34m(self, labels, axis, index, columns, level, inplace, errors)\u001b[0m\n\u001b[0;32m   5433\u001b[0m \u001b[38;5;28;01mdef\u001b[39;00m \u001b[38;5;21mdrop\u001b[39m(\n\u001b[0;32m   5434\u001b[0m     \u001b[38;5;28mself\u001b[39m,\n\u001b[0;32m   5435\u001b[0m     labels: IndexLabel \u001b[38;5;241m|\u001b[39m \u001b[38;5;28;01mNone\u001b[39;00m \u001b[38;5;241m=\u001b[39m \u001b[38;5;28;01mNone\u001b[39;00m,\n\u001b[1;32m   (...)\u001b[0m\n\u001b[0;32m   5442\u001b[0m     errors: IgnoreRaise \u001b[38;5;241m=\u001b[39m \u001b[38;5;124m\"\u001b[39m\u001b[38;5;124mraise\u001b[39m\u001b[38;5;124m\"\u001b[39m,\n\u001b[0;32m   5443\u001b[0m ) \u001b[38;5;241m-\u001b[39m\u001b[38;5;241m>\u001b[39m DataFrame \u001b[38;5;241m|\u001b[39m \u001b[38;5;28;01mNone\u001b[39;00m:\n\u001b[0;32m   5444\u001b[0m \u001b[38;5;250m    \u001b[39m\u001b[38;5;124;03m\"\"\"\u001b[39;00m\n\u001b[0;32m   5445\u001b[0m \u001b[38;5;124;03m    Drop specified labels from rows or columns.\u001b[39;00m\n\u001b[0;32m   5446\u001b[0m \n\u001b[1;32m   (...)\u001b[0m\n\u001b[0;32m   5579\u001b[0m \u001b[38;5;124;03m            weight  1.0     0.8\u001b[39;00m\n\u001b[0;32m   5580\u001b[0m \u001b[38;5;124;03m    \"\"\"\u001b[39;00m\n\u001b[1;32m-> 5581\u001b[0m     \u001b[38;5;28;01mreturn\u001b[39;00m \u001b[38;5;28;43msuper\u001b[39;49m\u001b[43m(\u001b[49m\u001b[43m)\u001b[49m\u001b[38;5;241;43m.\u001b[39;49m\u001b[43mdrop\u001b[49m\u001b[43m(\u001b[49m\n\u001b[0;32m   5582\u001b[0m \u001b[43m        \u001b[49m\u001b[43mlabels\u001b[49m\u001b[38;5;241;43m=\u001b[39;49m\u001b[43mlabels\u001b[49m\u001b[43m,\u001b[49m\n\u001b[0;32m   5583\u001b[0m \u001b[43m        \u001b[49m\u001b[43maxis\u001b[49m\u001b[38;5;241;43m=\u001b[39;49m\u001b[43maxis\u001b[49m\u001b[43m,\u001b[49m\n\u001b[0;32m   5584\u001b[0m \u001b[43m        \u001b[49m\u001b[43mindex\u001b[49m\u001b[38;5;241;43m=\u001b[39;49m\u001b[43mindex\u001b[49m\u001b[43m,\u001b[49m\n\u001b[0;32m   5585\u001b[0m \u001b[43m        \u001b[49m\u001b[43mcolumns\u001b[49m\u001b[38;5;241;43m=\u001b[39;49m\u001b[43mcolumns\u001b[49m\u001b[43m,\u001b[49m\n\u001b[0;32m   5586\u001b[0m \u001b[43m        \u001b[49m\u001b[43mlevel\u001b[49m\u001b[38;5;241;43m=\u001b[39;49m\u001b[43mlevel\u001b[49m\u001b[43m,\u001b[49m\n\u001b[0;32m   5587\u001b[0m \u001b[43m        \u001b[49m\u001b[43minplace\u001b[49m\u001b[38;5;241;43m=\u001b[39;49m\u001b[43minplace\u001b[49m\u001b[43m,\u001b[49m\n\u001b[0;32m   5588\u001b[0m \u001b[43m        \u001b[49m\u001b[43merrors\u001b[49m\u001b[38;5;241;43m=\u001b[39;49m\u001b[43merrors\u001b[49m\u001b[43m,\u001b[49m\n\u001b[0;32m   5589\u001b[0m \u001b[43m    \u001b[49m\u001b[43m)\u001b[49m\n",
      "File \u001b[1;32mc:\\Users\\何扬帆\\AppData\\Local\\Programs\\Python\\Python310\\lib\\site-packages\\pandas\\core\\generic.py:4788\u001b[0m, in \u001b[0;36mNDFrame.drop\u001b[1;34m(self, labels, axis, index, columns, level, inplace, errors)\u001b[0m\n\u001b[0;32m   4786\u001b[0m \u001b[38;5;28;01mfor\u001b[39;00m axis, labels \u001b[38;5;129;01min\u001b[39;00m axes\u001b[38;5;241m.\u001b[39mitems():\n\u001b[0;32m   4787\u001b[0m     \u001b[38;5;28;01mif\u001b[39;00m labels \u001b[38;5;129;01mis\u001b[39;00m \u001b[38;5;129;01mnot\u001b[39;00m \u001b[38;5;28;01mNone\u001b[39;00m:\n\u001b[1;32m-> 4788\u001b[0m         obj \u001b[38;5;241m=\u001b[39m \u001b[43mobj\u001b[49m\u001b[38;5;241;43m.\u001b[39;49m\u001b[43m_drop_axis\u001b[49m\u001b[43m(\u001b[49m\u001b[43mlabels\u001b[49m\u001b[43m,\u001b[49m\u001b[43m \u001b[49m\u001b[43maxis\u001b[49m\u001b[43m,\u001b[49m\u001b[43m \u001b[49m\u001b[43mlevel\u001b[49m\u001b[38;5;241;43m=\u001b[39;49m\u001b[43mlevel\u001b[49m\u001b[43m,\u001b[49m\u001b[43m \u001b[49m\u001b[43merrors\u001b[49m\u001b[38;5;241;43m=\u001b[39;49m\u001b[43merrors\u001b[49m\u001b[43m)\u001b[49m\n\u001b[0;32m   4790\u001b[0m \u001b[38;5;28;01mif\u001b[39;00m inplace:\n\u001b[0;32m   4791\u001b[0m     \u001b[38;5;28mself\u001b[39m\u001b[38;5;241m.\u001b[39m_update_inplace(obj)\n",
      "File \u001b[1;32mc:\\Users\\何扬帆\\AppData\\Local\\Programs\\Python\\Python310\\lib\\site-packages\\pandas\\core\\generic.py:4830\u001b[0m, in \u001b[0;36mNDFrame._drop_axis\u001b[1;34m(self, labels, axis, level, errors, only_slice)\u001b[0m\n\u001b[0;32m   4828\u001b[0m         new_axis \u001b[38;5;241m=\u001b[39m axis\u001b[38;5;241m.\u001b[39mdrop(labels, level\u001b[38;5;241m=\u001b[39mlevel, errors\u001b[38;5;241m=\u001b[39merrors)\n\u001b[0;32m   4829\u001b[0m     \u001b[38;5;28;01melse\u001b[39;00m:\n\u001b[1;32m-> 4830\u001b[0m         new_axis \u001b[38;5;241m=\u001b[39m \u001b[43maxis\u001b[49m\u001b[38;5;241;43m.\u001b[39;49m\u001b[43mdrop\u001b[49m\u001b[43m(\u001b[49m\u001b[43mlabels\u001b[49m\u001b[43m,\u001b[49m\u001b[43m \u001b[49m\u001b[43merrors\u001b[49m\u001b[38;5;241;43m=\u001b[39;49m\u001b[43merrors\u001b[49m\u001b[43m)\u001b[49m\n\u001b[0;32m   4831\u001b[0m     indexer \u001b[38;5;241m=\u001b[39m axis\u001b[38;5;241m.\u001b[39mget_indexer(new_axis)\n\u001b[0;32m   4833\u001b[0m \u001b[38;5;66;03m# Case for non-unique axis\u001b[39;00m\n\u001b[0;32m   4834\u001b[0m \u001b[38;5;28;01melse\u001b[39;00m:\n",
      "File \u001b[1;32mc:\\Users\\何扬帆\\AppData\\Local\\Programs\\Python\\Python310\\lib\\site-packages\\pandas\\core\\indexes\\base.py:7070\u001b[0m, in \u001b[0;36mIndex.drop\u001b[1;34m(self, labels, errors)\u001b[0m\n\u001b[0;32m   7068\u001b[0m \u001b[38;5;28;01mif\u001b[39;00m mask\u001b[38;5;241m.\u001b[39many():\n\u001b[0;32m   7069\u001b[0m     \u001b[38;5;28;01mif\u001b[39;00m errors \u001b[38;5;241m!=\u001b[39m \u001b[38;5;124m\"\u001b[39m\u001b[38;5;124mignore\u001b[39m\u001b[38;5;124m\"\u001b[39m:\n\u001b[1;32m-> 7070\u001b[0m         \u001b[38;5;28;01mraise\u001b[39;00m \u001b[38;5;167;01mKeyError\u001b[39;00m(\u001b[38;5;124mf\u001b[39m\u001b[38;5;124m\"\u001b[39m\u001b[38;5;132;01m{\u001b[39;00mlabels[mask]\u001b[38;5;241m.\u001b[39mtolist()\u001b[38;5;132;01m}\u001b[39;00m\u001b[38;5;124m not found in axis\u001b[39m\u001b[38;5;124m\"\u001b[39m)\n\u001b[0;32m   7071\u001b[0m     indexer \u001b[38;5;241m=\u001b[39m indexer[\u001b[38;5;241m~\u001b[39mmask]\n\u001b[0;32m   7072\u001b[0m \u001b[38;5;28;01mreturn\u001b[39;00m \u001b[38;5;28mself\u001b[39m\u001b[38;5;241m.\u001b[39mdelete(indexer)\n",
      "\u001b[1;31mKeyError\u001b[0m: \"['Unnamed: 0.1', 'Unnamed: 0', 'AGE_VISIT2', 'AGE_VISIT3', 'AGE_VISIT4', 'AGE_VISIT5'] not found in axis\""
     ]
    }
   ],
   "source": [
    "df=df.drop(columns=['Unnamed: 0.1','Unnamed: 0','AGE_VISIT2','AGE_VISIT3','AGE_VISIT4','AGE_VISIT5'])\n"
   ]
  },
  {
   "cell_type": "code",
   "execution_count": 65,
   "id": "bd963611",
   "metadata": {},
   "outputs": [],
   "source": [
    "df = df.rename(columns={'AGE_VISIT1': 'AGE'})\n",
    "\n",
    "df.to_csv('check3.csv')"
   ]
  },
  {
   "cell_type": "code",
   "execution_count": 1,
   "id": "25d6fdc9",
   "metadata": {},
   "outputs": [
    {
     "name": "stderr",
     "output_type": "stream",
     "text": [
      "C:\\Users\\何扬帆\\AppData\\Local\\Temp\\ipykernel_17388\\593257150.py:13: FutureWarning: Downcasting object dtype arrays on .fillna, .ffill, .bfill is deprecated and will change in a future version. Call result.infer_objects(copy=False) instead. To opt-in to the future behavior, set `pd.set_option('future.no_silent_downcasting', True)`\n",
      "  df[dx_cols_sorted] = df[dx_cols_sorted].apply(lambda row: row.ffill(axis=0), axis=1)\n"
     ]
    },
    {
     "name": "stdout",
     "output_type": "stream",
     "text": [
      "Missing DX values filled using LOCF and saved to DATA.csv.\n"
     ]
    }
   ],
   "source": [
    "import pandas as pd\n",
    "\n",
    "# Load dataset\n",
    "df = pd.read_csv(\"DATA.csv\")\n",
    "\n",
    "# Identify DX columns\n",
    "dx_cols = [col for col in df.columns if col.startswith(\"DX_VISIT\")]\n",
    "\n",
    "# Sort DX columns by visit number\n",
    "dx_cols_sorted = sorted(dx_cols, key=lambda x: int(x.split(\"VISIT\")[1]))\n",
    "\n",
    "# Apply row-wise forward fill (LOCF) for DX columns\n",
    "df[dx_cols_sorted] = df[dx_cols_sorted].apply(lambda row: row.ffill(axis=0), axis=1)\n",
    "\n",
    "# Save the updated DataFrame back to the CSV\n",
    "df.to_csv(\"DATA.csv\", index=False)\n",
    "\n",
    "print(\"Missing DX values filled using LOCF and saved to DATA.csv.\")\n",
    "\n"
   ]
  },
  {
   "cell_type": "code",
   "execution_count": 66,
   "id": "64a8caaa",
   "metadata": {},
   "outputs": [
    {
     "name": "stdout",
     "output_type": "stream",
     "text": [
      "Index(['RID', 'PTID', 'PTEDUCAT', 'EXAMDATE_bl', 'CDRSB_bl', 'ADAS11_bl',\n",
      "       'ADAS13_bl', 'ADASQ4_bl', 'MMSE_bl', 'FDG_bl',\n",
      "       ...\n",
      "       'PTRACCAT_Asian', 'PTRACCAT_Black', 'PTRACCAT_Hawaiian/Other PI',\n",
      "       'PTRACCAT_More than one', 'PTRACCAT_Unknown', 'PTRACCAT_White',\n",
      "       'PTMARRY_Married', 'PTMARRY_Never married', 'PTMARRY_Unknown',\n",
      "       'PTMARRY_Widowed'],\n",
      "      dtype='object', length=124)\n"
     ]
    }
   ],
   "source": [
    "print(df.columns)\n"
   ]
  },
  {
   "cell_type": "code",
   "execution_count": 67,
   "id": "569f8bd5",
   "metadata": {},
   "outputs": [],
   "source": [
    "\n",
    "# Define predictor categories\n",
    "# Updated predictor categories after one-hot encoding\n",
    "demographics = [\n",
    "    'AGE',\n",
    "    'PTGENDER_Male',\n",
    "    'PTETHCAT_Not Hisp/Latino', 'PTETHCAT_Unknown',\n",
    "    'PTRACCAT_Asian', 'PTRACCAT_Black', 'PTRACCAT_Hawaiian/Other PI','PTRACCAT_More than one','PTRACCAT_Unknown','PTRACCAT_White',\n",
    "    'PTMARRY_Married', 'PTMARRY_Widowed','PTMARRY_Never married','PTMARRY_Unknown'\n",
    "]\n",
    "\n",
    "\n",
    "ses_factors = [\n",
    "    'SITE_3', 'SITE_5','SITE_6','SITE_7','SITE_9','SITE_10','SITE_11','SITE_12','SITE_13','SITE_14','SITE_16','SITE_18','SITE_19',\n",
    "    'SITE_20','SITE_21','SITE_22','SITE_23','SITE_24','SITE_27','SITE_29','SITE_31','SITE_32','SITE_33','SITE_35','SITE_36','SITE_37',\n",
    "    'SITE_41','SITE_51','SITE_52','SITE_53','SITE_57','SITE_62','SITE_67','SITE_68','SITE_70','SITE_72','SITE_73','SITE_82','SITE_94',\n",
    "    'SITE_98','SITE_99','SITE_100','SITE_109','SITE_114','SITE_116','SITE_121','SITE_123','SITE_126','SITE_127','SITE_128','SITE_129',\n",
    "    'SITE_130','SITE_131','SITE_132','SITE_133','SITE_135','SITE_136','SITE_137','SITE_141','SITE_153','SITE_168','SITE_177','SITE_301',\n",
    "    'SITE_305','SITE_341','SITE_941',\n",
    "    'PTEDUCAT'\n",
    "]\n",
    "\n",
    "biomarkers = ['APOE4', 'ABETA', 'TAU', 'PTAU', 'CDRSB', 'ADAS11', 'ADAS13', 'ADASQ4', 'MMSE']\n",
    "\n",
    "# Build visit-specific feature sets\n",
    "visit_data = {}\n",
    "for visit in range(1, 5):\n",
    "    visit_biomarkers = [f\"{b}_VISIT{visit}\" for b in biomarkers if f\"{b}_VISIT{visit}\" in df.columns]\n",
    "    available_predictors = demographics + ses_factors + visit_biomarkers\n",
    "    target = f\"DX_VISIT{visit}\" if f\"DX_VISIT{visit}\" in df.columns else None\n",
    "    if target:\n",
    "        visit_data[f\"VISIT{visit}\"] = {\n",
    "            \"predictors\": available_predictors,\n",
    "            \"target\": target\n",
    "        }"
   ]
  },
  {
   "cell_type": "code",
   "execution_count": 68,
   "id": "f05bd069",
   "metadata": {},
   "outputs": [],
   "source": [
    "# Group biomarkers for LOCF (Last Observation Carried Forward)\n",
    "from collections import defaultdict\n",
    "\n",
    "biomarker_visits = []\n",
    "for b in biomarkers:\n",
    "    for v in range(1, 5):\n",
    "        col = f\"{b}_VISIT{v}\"\n",
    "        if col in df.columns:\n",
    "            biomarker_visits.append(col)\n",
    "\n",
    "biomarker_groups = defaultdict(list)\n",
    "for col in biomarker_visits:\n",
    "    base = col.split(\"_VISIT\")[0]\n",
    "    biomarker_groups[base].append(col)\n",
    "\n",
    "# Apply forward fill across visits row-wise\n",
    "for base, cols in biomarker_groups.items():\n",
    "    cols_sorted = sorted(cols, key=lambda x: int(x.split(\"VISIT\")[1]))\n",
    "    df[cols_sorted] = df[cols_sorted].apply(lambda row: row.ffill(axis=0), axis=1)"
   ]
  },
  {
   "cell_type": "code",
   "execution_count": 69,
   "id": "85d8bd1f",
   "metadata": {},
   "outputs": [
    {
     "data": {
      "image/png": "[encoded data removed]",
      "text/plain": [
       "<Figure size 600x400 with 2 Axes>"
      ]
     },
     "metadata": {},
     "output_type": "display_data"
    },
    {
     "data": {
      "image/png": "[encoded data removed]",
      "text/plain": [
       "<Figure size 600x400 with 2 Axes>"
      ]
     },
     "metadata": {},
     "output_type": "display_data"
    },
    {
     "data": {
      "image/png": "[encoded data removed]",
      "text/plain": [
       "<Figure size 600x400 with 2 Axes>"
      ]
     },
     "metadata": {},
     "output_type": "display_data"
    },
    {
     "data": {
      "image/png": "[encoded data removed]",
      "text/plain": [
       "<Figure size 600x400 with 2 Axes>"
      ]
     },
     "metadata": {},
     "output_type": "display_data"
    }
   ],
   "source": [
    "from sklearn.ensemble import GradientBoostingClassifier\n",
    "from sklearn.preprocessing import LabelEncoder\n",
    "from sklearn.metrics import accuracy_score, classification_report, confusion_matrix\n",
    "from sklearn.impute import SimpleImputer\n",
    "from sklearn.model_selection import train_test_split\n",
    "import seaborn as sns\n",
    "import matplotlib.pyplot as plt\n",
    "\n",
    "results = {}\n",
    "\n",
    "for visit in range(1, 5):\n",
    "    visit_key = f\"VISIT{visit}\"\n",
    "    if visit_key not in visit_data:\n",
    "        continue\n",
    "\n",
    "    predictors = visit_data[visit_key][\"predictors\"]\n",
    "    target = visit_data[visit_key][\"target\"]\n",
    "\n",
    "    data = df[predictors + [target]].copy()\n",
    "    data.dropna(subset=[target], inplace=True)\n",
    "\n",
    "    for col in demographics + ['SITE']:\n",
    "        if col in data.columns:\n",
    "            data[col] = data[col].astype(\"category\").cat.codes\n",
    "\n",
    "    imputer = SimpleImputer(strategy=\"median\")\n",
    "    X = imputer.fit_transform(data[predictors])\n",
    "    y = data[target].astype(str)\n",
    "\n",
    "    le = LabelEncoder()\n",
    "    y_encoded = le.fit_transform(y)\n",
    "\n",
    "    X_train, X_test, y_train, y_test = train_test_split(X, y_encoded, test_size=0.2, stratify=y_encoded, random_state=42)\n",
    "\n",
    "    model = GradientBoostingClassifier(random_state=42)\n",
    "    model.fit(X_train, y_train)\n",
    "\n",
    "    y_pred = model.predict(X_test)\n",
    "    acc = accuracy_score(y_test, y_pred)\n",
    "    report = classification_report(y_test, y_pred, target_names=le.classes_, output_dict=True)\n",
    "    cm = confusion_matrix(y_test, y_pred)\n",
    "\n",
    "    results[visit_key] = {\n",
    "        \"accuracy\": acc,\n",
    "        \"report\": report,\n",
    "        \"confusion_matrix\": cm,\n",
    "        \"labels\": le.classes_\n",
    "    }\n",
    "\n",
    "    # Confusion matrix plot\n",
    "    plt.figure(figsize=(6, 4))\n",
    "    sns.heatmap(cm, annot=True, fmt='d', cmap='Blues', xticklabels=le.classes_, yticklabels=le.classes_)\n",
    "    plt.title(f\"{visit_key} - Confusion Matrix\")\n",
    "    plt.xlabel(\"Predicted\")\n",
    "    plt.ylabel(\"Actual\")\n",
    "    plt.show()"
   ]
  },
  {
   "cell_type": "code",
   "execution_count": 70,
   "id": "f05ae88e",
   "metadata": {},
   "outputs": [],
   "source": [
    "# Identify all columns that start with DX_VISIT (e.g., DX_VISIT1, DX_VISIT2, ...)\n",
    "dx_cols = [col for col in df.columns if col.startswith(\"DX_VISIT\")]\n",
    "# Label is 1 if Dementia appears in any DX_VISIT column, else 0\n",
    "df[\"converted_to_AD\"] = df[dx_cols].apply(lambda row: \"Dementia\" in row.values, axis=1).astype(int)\n"
   ]
  },
  {
   "cell_type": "code",
   "execution_count": 71,
   "id": "a629945a",
   "metadata": {},
   "outputs": [],
   "source": [
    "\n",
    "dx_cols = [col for col in df.columns if col.startswith(\"DX_VISIT\")]\n",
    "df[\"final_dx\"] = df[dx_cols].bfill(axis=1).iloc[:, -1]  # Last non-null diagnosis\n",
    "y = df[\"final_dx\"]\n"
   ]
  }
 ],
 "metadata": {
  "kernelspec": {
   "display_name": "Python 3",
   "language": "python",
   "name": "python3"
  },
  "language_info": {
   "codemirror_mode": {
    "name": "ipython",
    "version": 3
   },
   "file_extension": ".py",
   "mimetype": "text/x-python",
   "name": "python",
   "nbconvert_exporter": "python",
   "pygments_lexer": "ipython3",
   "version": "3.10.6"
  }
 },
 "nbformat": 4,
 "nbformat_minor": 5
}
